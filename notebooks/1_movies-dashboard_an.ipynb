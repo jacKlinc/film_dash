{
 "cells": [
  {
   "cell_type": "code",
   "execution_count": 4,
   "metadata": {},
   "outputs": [],
   "source": [
    "import pandas as pd\n",
    "import numpy as np\n",
    "from pandas.io.json import json_normalize"
   ]
  },
  {
   "cell_type": "code",
   "execution_count": 4,
   "metadata": {},
   "outputs": [
    {
     "name": "stderr",
     "output_type": "stream",
     "text": [
      "/home/buscemi/.local/lib/python3.8/site-packages/IPython/core/interactiveshell.py:3062: DtypeWarning: Columns (10) have mixed types.Specify dtype option on import or set low_memory=False.\n",
      "  has_raised = await self.run_ast_nodes(code_ast.body, cell_name,\n"
     ]
    }
   ],
   "source": [
    "movies = pd.read_csv('../data/movies_metadata.csv')\n",
    "ratings = pd.read_csv('../data/ratings.csv')\n",
    "\n",
    "# Drop unnecessary columns\n",
    "movies.drop(['adult', 'belongs_to_collection', 'homepage', 'poster_path', 'production_companies', 'spoken_languages', 'tagline', 'original_title', 'video', 'popularity'], axis=1, inplace=True)"
   ]
  },
  {
   "cell_type": "markdown",
   "metadata": {},
   "source": [
    "## Clean Data\n",
    "Remove and reorder columns."
   ]
  },
  {
   "cell_type": "code",
   "execution_count": 5,
   "metadata": {},
   "outputs": [
    {
     "data": {
      "text/html": [
       "<div>\n",
       "<style scoped>\n",
       "    .dataframe tbody tr th:only-of-type {\n",
       "        vertical-align: middle;\n",
       "    }\n",
       "\n",
       "    .dataframe tbody tr th {\n",
       "        vertical-align: top;\n",
       "    }\n",
       "\n",
       "    .dataframe thead th {\n",
       "        text-align: right;\n",
       "    }\n",
       "</style>\n",
       "<table border=\"1\" class=\"dataframe\">\n",
       "  <thead>\n",
       "    <tr style=\"text-align: right;\">\n",
       "      <th></th>\n",
       "      <th>imdb_id</th>\n",
       "      <th>title</th>\n",
       "      <th>budget</th>\n",
       "      <th>genres</th>\n",
       "      <th>language</th>\n",
       "      <th>overview</th>\n",
       "      <th>production_country</th>\n",
       "      <th>release_date</th>\n",
       "      <th>revenue</th>\n",
       "      <th>runtime</th>\n",
       "      <th>status</th>\n",
       "      <th>vote_average</th>\n",
       "      <th>vote_count</th>\n",
       "    </tr>\n",
       "    <tr>\n",
       "      <th>id</th>\n",
       "      <th></th>\n",
       "      <th></th>\n",
       "      <th></th>\n",
       "      <th></th>\n",
       "      <th></th>\n",
       "      <th></th>\n",
       "      <th></th>\n",
       "      <th></th>\n",
       "      <th></th>\n",
       "      <th></th>\n",
       "      <th></th>\n",
       "      <th></th>\n",
       "      <th></th>\n",
       "    </tr>\n",
       "  </thead>\n",
       "  <tbody>\n",
       "    <tr>\n",
       "      <th>2</th>\n",
       "      <td>tt0094675</td>\n",
       "      <td>Ariel</td>\n",
       "      <td>0</td>\n",
       "      <td>[{'id': 18, 'name': 'Drama'}, {'id': 80, 'name...</td>\n",
       "      <td>fi</td>\n",
       "      <td>Taisto Kasurinen is a Finnish coal miner whose...</td>\n",
       "      <td>[{'iso_3166_1': 'FI', 'name': 'Finland'}]</td>\n",
       "      <td>1988-10-21</td>\n",
       "      <td>0</td>\n",
       "      <td>69</td>\n",
       "      <td>Released</td>\n",
       "      <td>7.1</td>\n",
       "      <td>44</td>\n",
       "    </tr>\n",
       "    <tr>\n",
       "      <th>3</th>\n",
       "      <td>tt0092149</td>\n",
       "      <td>Shadows in Paradise</td>\n",
       "      <td>0</td>\n",
       "      <td>[{'id': 18, 'name': 'Drama'}, {'id': 35, 'name...</td>\n",
       "      <td>fi</td>\n",
       "      <td>An episode in the life of Nikander, a garbage ...</td>\n",
       "      <td>[{'iso_3166_1': 'FI', 'name': 'Finland'}]</td>\n",
       "      <td>1986-10-16</td>\n",
       "      <td>0</td>\n",
       "      <td>76</td>\n",
       "      <td>Released</td>\n",
       "      <td>7.1</td>\n",
       "      <td>35</td>\n",
       "    </tr>\n",
       "    <tr>\n",
       "      <th>5</th>\n",
       "      <td>tt0113101</td>\n",
       "      <td>Four Rooms</td>\n",
       "      <td>4000000</td>\n",
       "      <td>[{'id': 80, 'name': 'Crime'}, {'id': 35, 'name...</td>\n",
       "      <td>en</td>\n",
       "      <td>It's Ted the Bellhop's first night on the job....</td>\n",
       "      <td>[{'iso_3166_1': 'US', 'name': 'United States o...</td>\n",
       "      <td>1995-12-09</td>\n",
       "      <td>4300000</td>\n",
       "      <td>98</td>\n",
       "      <td>Released</td>\n",
       "      <td>6.5</td>\n",
       "      <td>539</td>\n",
       "    </tr>\n",
       "    <tr>\n",
       "      <th>6</th>\n",
       "      <td>tt0107286</td>\n",
       "      <td>Judgment Night</td>\n",
       "      <td>0</td>\n",
       "      <td>[{'id': 28, 'name': 'Action'}, {'id': 53, 'nam...</td>\n",
       "      <td>en</td>\n",
       "      <td>While racing to a boxing match, Frank, Mike, J...</td>\n",
       "      <td>[{'iso_3166_1': 'JP', 'name': 'Japan'}, {'iso_...</td>\n",
       "      <td>1993-10-15</td>\n",
       "      <td>12136938</td>\n",
       "      <td>110</td>\n",
       "      <td>Released</td>\n",
       "      <td>6.4</td>\n",
       "      <td>79</td>\n",
       "    </tr>\n",
       "    <tr>\n",
       "      <th>11</th>\n",
       "      <td>tt0076759</td>\n",
       "      <td>Star Wars</td>\n",
       "      <td>11000000</td>\n",
       "      <td>[{'id': 12, 'name': 'Adventure'}, {'id': 28, '...</td>\n",
       "      <td>en</td>\n",
       "      <td>Princess Leia is captured and held hostage by ...</td>\n",
       "      <td>[{'iso_3166_1': 'US', 'name': 'United States o...</td>\n",
       "      <td>1977-05-25</td>\n",
       "      <td>775398007</td>\n",
       "      <td>121</td>\n",
       "      <td>Released</td>\n",
       "      <td>8.1</td>\n",
       "      <td>6778</td>\n",
       "    </tr>\n",
       "  </tbody>\n",
       "</table>\n",
       "</div>"
      ],
      "text/plain": [
       "      imdb_id                title    budget  \\\n",
       "id                                             \n",
       "2   tt0094675                Ariel         0   \n",
       "3   tt0092149  Shadows in Paradise         0   \n",
       "5   tt0113101           Four Rooms   4000000   \n",
       "6   tt0107286       Judgment Night         0   \n",
       "11  tt0076759            Star Wars  11000000   \n",
       "\n",
       "                                               genres language  \\\n",
       "id                                                               \n",
       "2   [{'id': 18, 'name': 'Drama'}, {'id': 80, 'name...       fi   \n",
       "3   [{'id': 18, 'name': 'Drama'}, {'id': 35, 'name...       fi   \n",
       "5   [{'id': 80, 'name': 'Crime'}, {'id': 35, 'name...       en   \n",
       "6   [{'id': 28, 'name': 'Action'}, {'id': 53, 'nam...       en   \n",
       "11  [{'id': 12, 'name': 'Adventure'}, {'id': 28, '...       en   \n",
       "\n",
       "                                             overview  \\\n",
       "id                                                      \n",
       "2   Taisto Kasurinen is a Finnish coal miner whose...   \n",
       "3   An episode in the life of Nikander, a garbage ...   \n",
       "5   It's Ted the Bellhop's first night on the job....   \n",
       "6   While racing to a boxing match, Frank, Mike, J...   \n",
       "11  Princess Leia is captured and held hostage by ...   \n",
       "\n",
       "                                   production_country release_date    revenue  \\\n",
       "id                                                                              \n",
       "2           [{'iso_3166_1': 'FI', 'name': 'Finland'}]   1988-10-21          0   \n",
       "3           [{'iso_3166_1': 'FI', 'name': 'Finland'}]   1986-10-16          0   \n",
       "5   [{'iso_3166_1': 'US', 'name': 'United States o...   1995-12-09    4300000   \n",
       "6   [{'iso_3166_1': 'JP', 'name': 'Japan'}, {'iso_...   1993-10-15   12136938   \n",
       "11  [{'iso_3166_1': 'US', 'name': 'United States o...   1977-05-25  775398007   \n",
       "\n",
       "    runtime    status  vote_average  vote_count  \n",
       "id                                               \n",
       "2        69  Released           7.1          44  \n",
       "3        76  Released           7.1          35  \n",
       "5        98  Released           6.5         539  \n",
       "6       110  Released           6.4          79  \n",
       "11      121  Released           8.1        6778  "
      ]
     },
     "execution_count": 5,
     "metadata": {},
     "output_type": "execute_result"
    }
   ],
   "source": [
    "# Re-order columns\n",
    "movies = movies[['id','imdb_id','title','budget','genres','original_language','overview','production_countries','release_date','revenue','runtime','status','vote_average','vote_count']]\n",
    "\n",
    "# Rename columns\n",
    "movies.rename(columns={'original_language': 'language', 'production_countries': 'production_country'}, inplace=True)\n",
    "\n",
    "# Update data types\n",
    "movies = movies.convert_dtypes()\n",
    "\n",
    "# Remove irregular ids\n",
    "movies.drop(movies.id.loc[movies.id.str.contains('-')].index, inplace=True)\n",
    "\n",
    "# Convert data types\n",
    "movies = movies.astype({\"id\": 'int', \"budget\": 'int'})\n",
    "\n",
    "movies.sort_values(by='id', inplace=True)\n",
    "\n",
    "movies.set_index('id', inplace=True)\n",
    "\n",
    "movies.head()"
   ]
  },
  {
   "cell_type": "code",
   "execution_count": 6,
   "metadata": {},
   "outputs": [
    {
     "data": {
      "text/plain": [
       "imdb_id                string\n",
       "title                  string\n",
       "budget                  int64\n",
       "genres                 string\n",
       "language               string\n",
       "overview               string\n",
       "production_country     string\n",
       "release_date           string\n",
       "revenue                 Int64\n",
       "runtime                 Int64\n",
       "status                 string\n",
       "vote_average          float64\n",
       "vote_count              Int64\n",
       "dtype: object"
      ]
     },
     "execution_count": 6,
     "metadata": {},
     "output_type": "execute_result"
    }
   ],
   "source": [
    "movies.dtypes"
   ]
  },
  {
   "cell_type": "code",
   "execution_count": 7,
   "metadata": {},
   "outputs": [],
   "source": [
    "ratings.sort_values(by='movieId', inplace=True)\n",
    "\n",
    "ratings.drop(columns=['timestamp', 'userId'], inplace=True)\n",
    "\n",
    "ratings.set_index('movieId', inplace=True)"
   ]
  },
  {
   "cell_type": "code",
   "execution_count": 8,
   "metadata": {},
   "outputs": [
    {
     "data": {
      "text/html": [
       "<div>\n",
       "<style scoped>\n",
       "    .dataframe tbody tr th:only-of-type {\n",
       "        vertical-align: middle;\n",
       "    }\n",
       "\n",
       "    .dataframe tbody tr th {\n",
       "        vertical-align: top;\n",
       "    }\n",
       "\n",
       "    .dataframe thead th {\n",
       "        text-align: right;\n",
       "    }\n",
       "</style>\n",
       "<table border=\"1\" class=\"dataframe\">\n",
       "  <thead>\n",
       "    <tr style=\"text-align: right;\">\n",
       "      <th></th>\n",
       "      <th>rating</th>\n",
       "    </tr>\n",
       "    <tr>\n",
       "      <th>movieId</th>\n",
       "      <th></th>\n",
       "    </tr>\n",
       "  </thead>\n",
       "  <tbody>\n",
       "    <tr>\n",
       "      <th>1</th>\n",
       "      <td>4.0</td>\n",
       "    </tr>\n",
       "    <tr>\n",
       "      <th>1</th>\n",
       "      <td>4.0</td>\n",
       "    </tr>\n",
       "    <tr>\n",
       "      <th>1</th>\n",
       "      <td>5.0</td>\n",
       "    </tr>\n",
       "    <tr>\n",
       "      <th>1</th>\n",
       "      <td>2.0</td>\n",
       "    </tr>\n",
       "    <tr>\n",
       "      <th>1</th>\n",
       "      <td>3.0</td>\n",
       "    </tr>\n",
       "  </tbody>\n",
       "</table>\n",
       "</div>"
      ],
      "text/plain": [
       "         rating\n",
       "movieId        \n",
       "1           4.0\n",
       "1           4.0\n",
       "1           5.0\n",
       "1           2.0\n",
       "1           3.0"
      ]
     },
     "execution_count": 8,
     "metadata": {},
     "output_type": "execute_result"
    }
   ],
   "source": [
    "ratings.head()"
   ]
  },
  {
   "cell_type": "code",
   "execution_count": 5,
   "metadata": {},
   "outputs": [],
   "source": [
    "movie_ratings = pd.read_csv('../data/movie_ratings.csv')"
   ]
  },
  {
   "cell_type": "code",
   "execution_count": 6,
   "metadata": {},
   "outputs": [
    {
     "data": {
      "text/html": [
       "<div>\n",
       "<style scoped>\n",
       "    .dataframe tbody tr th:only-of-type {\n",
       "        vertical-align: middle;\n",
       "    }\n",
       "\n",
       "    .dataframe tbody tr th {\n",
       "        vertical-align: top;\n",
       "    }\n",
       "\n",
       "    .dataframe thead th {\n",
       "        text-align: right;\n",
       "    }\n",
       "</style>\n",
       "<table border=\"1\" class=\"dataframe\">\n",
       "  <thead>\n",
       "    <tr style=\"text-align: right;\">\n",
       "      <th></th>\n",
       "      <th>movieId</th>\n",
       "      <th>imdb_id</th>\n",
       "      <th>title</th>\n",
       "      <th>budget</th>\n",
       "      <th>genres</th>\n",
       "      <th>language</th>\n",
       "      <th>overview</th>\n",
       "      <th>production_country</th>\n",
       "      <th>release_date</th>\n",
       "      <th>revenue</th>\n",
       "      <th>runtime</th>\n",
       "      <th>status</th>\n",
       "      <th>vote_average</th>\n",
       "      <th>vote_count</th>\n",
       "      <th>rating</th>\n",
       "    </tr>\n",
       "  </thead>\n",
       "  <tbody>\n",
       "    <tr>\n",
       "      <th>0</th>\n",
       "      <td>2</td>\n",
       "      <td>tt0094675</td>\n",
       "      <td>Ariel</td>\n",
       "      <td>0</td>\n",
       "      <td>[{'id': 18, 'name': 'Drama'}, {'id': 80, 'name...</td>\n",
       "      <td>fi</td>\n",
       "      <td>Taisto Kasurinen is a Finnish coal miner whose...</td>\n",
       "      <td>[{'iso_3166_1': 'FI', 'name': 'Finland'}]</td>\n",
       "      <td>1988-10-21</td>\n",
       "      <td>0</td>\n",
       "      <td>69.0</td>\n",
       "      <td>Released</td>\n",
       "      <td>7.1</td>\n",
       "      <td>44</td>\n",
       "      <td>5.0</td>\n",
       "    </tr>\n",
       "    <tr>\n",
       "      <th>1</th>\n",
       "      <td>2</td>\n",
       "      <td>tt0094675</td>\n",
       "      <td>Ariel</td>\n",
       "      <td>0</td>\n",
       "      <td>[{'id': 18, 'name': 'Drama'}, {'id': 80, 'name...</td>\n",
       "      <td>fi</td>\n",
       "      <td>Taisto Kasurinen is a Finnish coal miner whose...</td>\n",
       "      <td>[{'iso_3166_1': 'FI', 'name': 'Finland'}]</td>\n",
       "      <td>1988-10-21</td>\n",
       "      <td>0</td>\n",
       "      <td>69.0</td>\n",
       "      <td>Released</td>\n",
       "      <td>7.1</td>\n",
       "      <td>44</td>\n",
       "      <td>3.0</td>\n",
       "    </tr>\n",
       "    <tr>\n",
       "      <th>2</th>\n",
       "      <td>2</td>\n",
       "      <td>tt0094675</td>\n",
       "      <td>Ariel</td>\n",
       "      <td>0</td>\n",
       "      <td>[{'id': 18, 'name': 'Drama'}, {'id': 80, 'name...</td>\n",
       "      <td>fi</td>\n",
       "      <td>Taisto Kasurinen is a Finnish coal miner whose...</td>\n",
       "      <td>[{'iso_3166_1': 'FI', 'name': 'Finland'}]</td>\n",
       "      <td>1988-10-21</td>\n",
       "      <td>0</td>\n",
       "      <td>69.0</td>\n",
       "      <td>Released</td>\n",
       "      <td>7.1</td>\n",
       "      <td>44</td>\n",
       "      <td>4.0</td>\n",
       "    </tr>\n",
       "    <tr>\n",
       "      <th>3</th>\n",
       "      <td>2</td>\n",
       "      <td>tt0094675</td>\n",
       "      <td>Ariel</td>\n",
       "      <td>0</td>\n",
       "      <td>[{'id': 18, 'name': 'Drama'}, {'id': 80, 'name...</td>\n",
       "      <td>fi</td>\n",
       "      <td>Taisto Kasurinen is a Finnish coal miner whose...</td>\n",
       "      <td>[{'iso_3166_1': 'FI', 'name': 'Finland'}]</td>\n",
       "      <td>1988-10-21</td>\n",
       "      <td>0</td>\n",
       "      <td>69.0</td>\n",
       "      <td>Released</td>\n",
       "      <td>7.1</td>\n",
       "      <td>44</td>\n",
       "      <td>3.0</td>\n",
       "    </tr>\n",
       "    <tr>\n",
       "      <th>4</th>\n",
       "      <td>2</td>\n",
       "      <td>tt0094675</td>\n",
       "      <td>Ariel</td>\n",
       "      <td>0</td>\n",
       "      <td>[{'id': 18, 'name': 'Drama'}, {'id': 80, 'name...</td>\n",
       "      <td>fi</td>\n",
       "      <td>Taisto Kasurinen is a Finnish coal miner whose...</td>\n",
       "      <td>[{'iso_3166_1': 'FI', 'name': 'Finland'}]</td>\n",
       "      <td>1988-10-21</td>\n",
       "      <td>0</td>\n",
       "      <td>69.0</td>\n",
       "      <td>Released</td>\n",
       "      <td>7.1</td>\n",
       "      <td>44</td>\n",
       "      <td>3.5</td>\n",
       "    </tr>\n",
       "  </tbody>\n",
       "</table>\n",
       "</div>"
      ],
      "text/plain": [
       "   movieId    imdb_id  title  budget  \\\n",
       "0        2  tt0094675  Ariel       0   \n",
       "1        2  tt0094675  Ariel       0   \n",
       "2        2  tt0094675  Ariel       0   \n",
       "3        2  tt0094675  Ariel       0   \n",
       "4        2  tt0094675  Ariel       0   \n",
       "\n",
       "                                              genres language  \\\n",
       "0  [{'id': 18, 'name': 'Drama'}, {'id': 80, 'name...       fi   \n",
       "1  [{'id': 18, 'name': 'Drama'}, {'id': 80, 'name...       fi   \n",
       "2  [{'id': 18, 'name': 'Drama'}, {'id': 80, 'name...       fi   \n",
       "3  [{'id': 18, 'name': 'Drama'}, {'id': 80, 'name...       fi   \n",
       "4  [{'id': 18, 'name': 'Drama'}, {'id': 80, 'name...       fi   \n",
       "\n",
       "                                            overview  \\\n",
       "0  Taisto Kasurinen is a Finnish coal miner whose...   \n",
       "1  Taisto Kasurinen is a Finnish coal miner whose...   \n",
       "2  Taisto Kasurinen is a Finnish coal miner whose...   \n",
       "3  Taisto Kasurinen is a Finnish coal miner whose...   \n",
       "4  Taisto Kasurinen is a Finnish coal miner whose...   \n",
       "\n",
       "                          production_country release_date  revenue  runtime  \\\n",
       "0  [{'iso_3166_1': 'FI', 'name': 'Finland'}]   1988-10-21        0     69.0   \n",
       "1  [{'iso_3166_1': 'FI', 'name': 'Finland'}]   1988-10-21        0     69.0   \n",
       "2  [{'iso_3166_1': 'FI', 'name': 'Finland'}]   1988-10-21        0     69.0   \n",
       "3  [{'iso_3166_1': 'FI', 'name': 'Finland'}]   1988-10-21        0     69.0   \n",
       "4  [{'iso_3166_1': 'FI', 'name': 'Finland'}]   1988-10-21        0     69.0   \n",
       "\n",
       "     status  vote_average  vote_count  rating  \n",
       "0  Released           7.1          44     5.0  \n",
       "1  Released           7.1          44     3.0  \n",
       "2  Released           7.1          44     4.0  \n",
       "3  Released           7.1          44     3.0  \n",
       "4  Released           7.1          44     3.5  "
      ]
     },
     "execution_count": 6,
     "metadata": {},
     "output_type": "execute_result"
    }
   ],
   "source": [
    "movie_ratings.head()"
   ]
  },
  {
   "cell_type": "code",
   "execution_count": 7,
   "metadata": {},
   "outputs": [
    {
     "data": {
      "text/plain": [
       "movieId                 Int64\n",
       "imdb_id                string\n",
       "title                  string\n",
       "budget                  Int64\n",
       "genres                 string\n",
       "language               string\n",
       "overview               string\n",
       "production_country     string\n",
       "release_date           string\n",
       "revenue                 Int64\n",
       "runtime                 Int64\n",
       "status                 string\n",
       "vote_average          float64\n",
       "vote_count              Int64\n",
       "rating                float64\n",
       "dtype: object"
      ]
     },
     "execution_count": 7,
     "metadata": {},
     "output_type": "execute_result"
    }
   ],
   "source": [
    "# Update data types\n",
    "movie_ratings = movie_ratings.convert_dtypes()\n",
    "movie_ratings.dtypes"
   ]
  },
  {
   "cell_type": "markdown",
   "metadata": {},
   "source": [
    "### Group Ratings by Title\n",
    "Show average rating for each movie"
   ]
  },
  {
   "cell_type": "code",
   "execution_count": 8,
   "metadata": {},
   "outputs": [],
   "source": [
    "movie_ratings.drop(columns=['movieId', 'imdb_id', 'overview', 'production_country', 'release_date', 'status', 'genres', 'vote_count'], inplace=True)"
   ]
  },
  {
   "cell_type": "code",
   "execution_count": 9,
   "metadata": {},
   "outputs": [
    {
     "data": {
      "text/html": [
       "<div>\n",
       "<style scoped>\n",
       "    .dataframe tbody tr th:only-of-type {\n",
       "        vertical-align: middle;\n",
       "    }\n",
       "\n",
       "    .dataframe tbody tr th {\n",
       "        vertical-align: top;\n",
       "    }\n",
       "\n",
       "    .dataframe thead th {\n",
       "        text-align: right;\n",
       "    }\n",
       "</style>\n",
       "<table border=\"1\" class=\"dataframe\">\n",
       "  <thead>\n",
       "    <tr style=\"text-align: right;\">\n",
       "      <th></th>\n",
       "      <th>title</th>\n",
       "      <th>budget</th>\n",
       "      <th>language</th>\n",
       "      <th>revenue</th>\n",
       "      <th>runtime</th>\n",
       "      <th>vote_average</th>\n",
       "      <th>rating</th>\n",
       "    </tr>\n",
       "  </thead>\n",
       "  <tbody>\n",
       "    <tr>\n",
       "      <th>0</th>\n",
       "      <td>Ariel</td>\n",
       "      <td>0</td>\n",
       "      <td>fi</td>\n",
       "      <td>0</td>\n",
       "      <td>69</td>\n",
       "      <td>7.1</td>\n",
       "      <td>5.0</td>\n",
       "    </tr>\n",
       "    <tr>\n",
       "      <th>1</th>\n",
       "      <td>Ariel</td>\n",
       "      <td>0</td>\n",
       "      <td>fi</td>\n",
       "      <td>0</td>\n",
       "      <td>69</td>\n",
       "      <td>7.1</td>\n",
       "      <td>3.0</td>\n",
       "    </tr>\n",
       "    <tr>\n",
       "      <th>2</th>\n",
       "      <td>Ariel</td>\n",
       "      <td>0</td>\n",
       "      <td>fi</td>\n",
       "      <td>0</td>\n",
       "      <td>69</td>\n",
       "      <td>7.1</td>\n",
       "      <td>4.0</td>\n",
       "    </tr>\n",
       "    <tr>\n",
       "      <th>3</th>\n",
       "      <td>Ariel</td>\n",
       "      <td>0</td>\n",
       "      <td>fi</td>\n",
       "      <td>0</td>\n",
       "      <td>69</td>\n",
       "      <td>7.1</td>\n",
       "      <td>3.0</td>\n",
       "    </tr>\n",
       "    <tr>\n",
       "      <th>4</th>\n",
       "      <td>Ariel</td>\n",
       "      <td>0</td>\n",
       "      <td>fi</td>\n",
       "      <td>0</td>\n",
       "      <td>69</td>\n",
       "      <td>7.1</td>\n",
       "      <td>3.5</td>\n",
       "    </tr>\n",
       "  </tbody>\n",
       "</table>\n",
       "</div>"
      ],
      "text/plain": [
       "   title  budget language  revenue  runtime  vote_average  rating\n",
       "0  Ariel       0       fi        0       69           7.1     5.0\n",
       "1  Ariel       0       fi        0       69           7.1     3.0\n",
       "2  Ariel       0       fi        0       69           7.1     4.0\n",
       "3  Ariel       0       fi        0       69           7.1     3.0\n",
       "4  Ariel       0       fi        0       69           7.1     3.5"
      ]
     },
     "execution_count": 9,
     "metadata": {},
     "output_type": "execute_result"
    }
   ],
   "source": [
    "movie_ratings.head()"
   ]
  },
  {
   "cell_type": "code",
   "execution_count": 18,
   "metadata": {},
   "outputs": [
    {
     "data": {
      "text/plain": [
       "3.1285621874242486"
      ]
     },
     "execution_count": 18,
     "metadata": {},
     "output_type": "execute_result"
    }
   ],
   "source": [
    "title_avg = movie_ratings.groupby('title').rating.mean()\n",
    "title_avg.sort_values().mean()"
   ]
  },
  {
   "cell_type": "code",
   "execution_count": 21,
   "metadata": {},
   "outputs": [],
   "source": [
    "country_scores = movie_ratings.groupby('language').rating.mean()"
   ]
  },
  {
   "cell_type": "code",
   "execution_count": 22,
   "metadata": {},
   "outputs": [
    {
     "data": {
      "text/plain": [
       "<matplotlib.axes._subplots.AxesSubplot at 0x7f03f9c9b8b0>"
      ]
     },
     "execution_count": 22,
     "metadata": {},
     "output_type": "execute_result"
    },
    {
     "data": {
      "image/png": "[encoded data removed]",
      "text/plain": [
       "<Figure size 1080x360 with 1 Axes>"
      ]
     },
     "metadata": {
      "needs_background": "light"
     },
     "output_type": "display_data"
    }
   ],
   "source": [
    "country_scores.sort_values(ascending=False).plot.bar(figsize=(15,5))"
   ]
  }
 ],
 "metadata": {
  "kernelspec": {
   "display_name": "Python 3.7.5 64-bit",
   "language": "python",
   "name": "python37564bite837ac3d978644508280cde9286add7f"
  },
  "language_info": {
   "codemirror_mode": {
    "name": "ipython",
    "version": 3
   },
   "file_extension": ".py",
   "mimetype": "text/x-python",
   "name": "python",
   "nbconvert_exporter": "python",
   "pygments_lexer": "ipython3",
   "version": "3.8.2"
  }
 },
 "nbformat": 4,
 "nbformat_minor": 4
}
