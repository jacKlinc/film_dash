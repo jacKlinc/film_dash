{
 "cells": [
  {
   "cell_type": "code",
   "execution_count": 1,
   "metadata": {},
   "outputs": [],
   "source": [
    "import pandas as pd\n",
    "import numpy as np"
   ]
  },
  {
   "cell_type": "code",
   "execution_count": 3,
   "metadata": {},
   "outputs": [
    {
     "name": "stderr",
     "output_type": "stream",
     "text": [
      "/home/buscemi/.local/lib/python3.8/site-packages/IPython/core/interactiveshell.py:3062: DtypeWarning: Columns (10) have mixed types.Specify dtype option on import or set low_memory=False.\n",
      "  has_raised = await self.run_ast_nodes(code_ast.body, cell_name,\n"
     ]
    }
   ],
   "source": [
    "movies = pd.read_csv('../data/movies_metadata.csv')\n",
    "ratings = pd.read_csv('../data/ratings.csv')\n",
    "\n",
    "# Drop unnecessary columns\n",
    "movies.drop(['adult', 'belongs_to_collection', 'homepage', 'poster_path', 'production_companies', 'spoken_languages', 'tagline', 'original_title', 'video', 'popularity'], axis=1, inplace=True)"
   ]
  },
  {
   "cell_type": "markdown",
   "metadata": {},
   "source": [
    "## Clean Data\n",
    "Remove and reorder columns."
   ]
  },
  {
   "cell_type": "code",
   "execution_count": 4,
   "metadata": {},
   "outputs": [],
   "source": [
    "# Re-order columns\n",
    "movies = movies[['id','imdb_id','title','budget','genres','original_language','overview','production_countries','release_date','revenue','runtime','status','vote_average','vote_count']]"
   ]
  },
  {
   "cell_type": "code",
   "execution_count": 5,
   "metadata": {},
   "outputs": [],
   "source": [
    "# Rename columns\n",
    "movies.rename(columns={'original_language': 'language', 'production_countries': 'production_country'}, inplace=True)"
   ]
  },
  {
   "cell_type": "code",
   "execution_count": 6,
   "metadata": {},
   "outputs": [],
   "source": [
    "# Update data types\n",
    "movies = movies.convert_dtypes()"
   ]
  },
  {
   "cell_type": "code",
   "execution_count": 7,
   "metadata": {},
   "outputs": [],
   "source": [
    "# Remove irregular ids\n",
    "movies.drop(movies.id.loc[movies.id.str.contains('-')].index, inplace=True)"
   ]
  },
  {
   "cell_type": "code",
   "execution_count": 8,
   "metadata": {},
   "outputs": [],
   "source": [
    "# Convert data types\n",
    "movies = movies.astype({\"id\": 'int', \"budget\": 'int'})"
   ]
  },
  {
   "cell_type": "code",
   "execution_count": 9,
   "metadata": {},
   "outputs": [],
   "source": [
    "movies.set_index('id', inplace=True)"
   ]
  },
  {
   "cell_type": "code",
   "execution_count": 10,
   "metadata": {},
   "outputs": [
    {
     "data": {
      "text/html": [
       "<div>\n",
       "<style scoped>\n",
       "    .dataframe tbody tr th:only-of-type {\n",
       "        vertical-align: middle;\n",
       "    }\n",
       "\n",
       "    .dataframe tbody tr th {\n",
       "        vertical-align: top;\n",
       "    }\n",
       "\n",
       "    .dataframe thead th {\n",
       "        text-align: right;\n",
       "    }\n",
       "</style>\n",
       "<table border=\"1\" class=\"dataframe\">\n",
       "  <thead>\n",
       "    <tr style=\"text-align: right;\">\n",
       "      <th></th>\n",
       "      <th>imdb_id</th>\n",
       "      <th>title</th>\n",
       "      <th>budget</th>\n",
       "      <th>genres</th>\n",
       "      <th>language</th>\n",
       "      <th>overview</th>\n",
       "      <th>production_country</th>\n",
       "      <th>release_date</th>\n",
       "      <th>revenue</th>\n",
       "      <th>runtime</th>\n",
       "      <th>status</th>\n",
       "      <th>vote_average</th>\n",
       "      <th>vote_count</th>\n",
       "    </tr>\n",
       "    <tr>\n",
       "      <th>id</th>\n",
       "      <th></th>\n",
       "      <th></th>\n",
       "      <th></th>\n",
       "      <th></th>\n",
       "      <th></th>\n",
       "      <th></th>\n",
       "      <th></th>\n",
       "      <th></th>\n",
       "      <th></th>\n",
       "      <th></th>\n",
       "      <th></th>\n",
       "      <th></th>\n",
       "      <th></th>\n",
       "    </tr>\n",
       "  </thead>\n",
       "  <tbody>\n",
       "    <tr>\n",
       "      <th>862</th>\n",
       "      <td>tt0114709</td>\n",
       "      <td>Toy Story</td>\n",
       "      <td>30000000</td>\n",
       "      <td>[{'id': 16, 'name': 'Animation'}, {'id': 35, '...</td>\n",
       "      <td>en</td>\n",
       "      <td>Led by Woody, Andy's toys live happily in his ...</td>\n",
       "      <td>[{'iso_3166_1': 'US', 'name': 'United States o...</td>\n",
       "      <td>1995-10-30</td>\n",
       "      <td>373554033</td>\n",
       "      <td>81</td>\n",
       "      <td>Released</td>\n",
       "      <td>7.7</td>\n",
       "      <td>5415</td>\n",
       "    </tr>\n",
       "    <tr>\n",
       "      <th>8844</th>\n",
       "      <td>tt0113497</td>\n",
       "      <td>Jumanji</td>\n",
       "      <td>65000000</td>\n",
       "      <td>[{'id': 12, 'name': 'Adventure'}, {'id': 14, '...</td>\n",
       "      <td>en</td>\n",
       "      <td>When siblings Judy and Peter discover an encha...</td>\n",
       "      <td>[{'iso_3166_1': 'US', 'name': 'United States o...</td>\n",
       "      <td>1995-12-15</td>\n",
       "      <td>262797249</td>\n",
       "      <td>104</td>\n",
       "      <td>Released</td>\n",
       "      <td>6.9</td>\n",
       "      <td>2413</td>\n",
       "    </tr>\n",
       "    <tr>\n",
       "      <th>15602</th>\n",
       "      <td>tt0113228</td>\n",
       "      <td>Grumpier Old Men</td>\n",
       "      <td>0</td>\n",
       "      <td>[{'id': 10749, 'name': 'Romance'}, {'id': 35, ...</td>\n",
       "      <td>en</td>\n",
       "      <td>A family wedding reignites the ancient feud be...</td>\n",
       "      <td>[{'iso_3166_1': 'US', 'name': 'United States o...</td>\n",
       "      <td>1995-12-22</td>\n",
       "      <td>0</td>\n",
       "      <td>101</td>\n",
       "      <td>Released</td>\n",
       "      <td>6.5</td>\n",
       "      <td>92</td>\n",
       "    </tr>\n",
       "    <tr>\n",
       "      <th>31357</th>\n",
       "      <td>tt0114885</td>\n",
       "      <td>Waiting to Exhale</td>\n",
       "      <td>16000000</td>\n",
       "      <td>[{'id': 35, 'name': 'Comedy'}, {'id': 18, 'nam...</td>\n",
       "      <td>en</td>\n",
       "      <td>Cheated on, mistreated and stepped on, the wom...</td>\n",
       "      <td>[{'iso_3166_1': 'US', 'name': 'United States o...</td>\n",
       "      <td>1995-12-22</td>\n",
       "      <td>81452156</td>\n",
       "      <td>127</td>\n",
       "      <td>Released</td>\n",
       "      <td>6.1</td>\n",
       "      <td>34</td>\n",
       "    </tr>\n",
       "    <tr>\n",
       "      <th>11862</th>\n",
       "      <td>tt0113041</td>\n",
       "      <td>Father of the Bride Part II</td>\n",
       "      <td>0</td>\n",
       "      <td>[{'id': 35, 'name': 'Comedy'}]</td>\n",
       "      <td>en</td>\n",
       "      <td>Just when George Banks has recovered from his ...</td>\n",
       "      <td>[{'iso_3166_1': 'US', 'name': 'United States o...</td>\n",
       "      <td>1995-02-10</td>\n",
       "      <td>76578911</td>\n",
       "      <td>106</td>\n",
       "      <td>Released</td>\n",
       "      <td>5.7</td>\n",
       "      <td>173</td>\n",
       "    </tr>\n",
       "  </tbody>\n",
       "</table>\n",
       "</div>"
      ],
      "text/plain": [
       "         imdb_id                        title    budget  \\\n",
       "id                                                        \n",
       "862    tt0114709                    Toy Story  30000000   \n",
       "8844   tt0113497                      Jumanji  65000000   \n",
       "15602  tt0113228             Grumpier Old Men         0   \n",
       "31357  tt0114885            Waiting to Exhale  16000000   \n",
       "11862  tt0113041  Father of the Bride Part II         0   \n",
       "\n",
       "                                                  genres language  \\\n",
       "id                                                                  \n",
       "862    [{'id': 16, 'name': 'Animation'}, {'id': 35, '...       en   \n",
       "8844   [{'id': 12, 'name': 'Adventure'}, {'id': 14, '...       en   \n",
       "15602  [{'id': 10749, 'name': 'Romance'}, {'id': 35, ...       en   \n",
       "31357  [{'id': 35, 'name': 'Comedy'}, {'id': 18, 'nam...       en   \n",
       "11862                     [{'id': 35, 'name': 'Comedy'}]       en   \n",
       "\n",
       "                                                overview  \\\n",
       "id                                                         \n",
       "862    Led by Woody, Andy's toys live happily in his ...   \n",
       "8844   When siblings Judy and Peter discover an encha...   \n",
       "15602  A family wedding reignites the ancient feud be...   \n",
       "31357  Cheated on, mistreated and stepped on, the wom...   \n",
       "11862  Just when George Banks has recovered from his ...   \n",
       "\n",
       "                                      production_country release_date  \\\n",
       "id                                                                      \n",
       "862    [{'iso_3166_1': 'US', 'name': 'United States o...   1995-10-30   \n",
       "8844   [{'iso_3166_1': 'US', 'name': 'United States o...   1995-12-15   \n",
       "15602  [{'iso_3166_1': 'US', 'name': 'United States o...   1995-12-22   \n",
       "31357  [{'iso_3166_1': 'US', 'name': 'United States o...   1995-12-22   \n",
       "11862  [{'iso_3166_1': 'US', 'name': 'United States o...   1995-02-10   \n",
       "\n",
       "         revenue  runtime    status  vote_average  vote_count  \n",
       "id                                                             \n",
       "862    373554033       81  Released           7.7        5415  \n",
       "8844   262797249      104  Released           6.9        2413  \n",
       "15602          0      101  Released           6.5          92  \n",
       "31357   81452156      127  Released           6.1          34  \n",
       "11862   76578911      106  Released           5.7         173  "
      ]
     },
     "execution_count": 10,
     "metadata": {},
     "output_type": "execute_result"
    }
   ],
   "source": [
    "movies.head(5)"
   ]
  },
  {
   "cell_type": "code",
   "execution_count": 10,
   "metadata": {},
   "outputs": [
    {
     "data": {
      "text/plain": [
       "imdb_id                  string\n",
       "title                    string\n",
       "budget                    int64\n",
       "genres                   string\n",
       "original_language        string\n",
       "overview                 string\n",
       "production_countries     string\n",
       "release_date             string\n",
       "revenue                   Int64\n",
       "runtime                   Int64\n",
       "status                   string\n",
       "vote_average            float64\n",
       "vote_count                Int64\n",
       "dtype: object"
      ]
     },
     "execution_count": 10,
     "metadata": {},
     "output_type": "execute_result"
    }
   ],
   "source": [
    "movies.dtypes"
   ]
  },
  {
   "cell_type": "code",
   "execution_count": null,
   "metadata": {},
   "outputs": [],
   "source": [
    "movie_ratings = movies.join(ratings.set_index('movieId'), on='id', how='left')"
   ]
  }
 ],
 "metadata": {
  "kernelspec": {
   "display_name": "Python 3.7.5 64-bit",
   "language": "python",
   "name": "python37564bite837ac3d978644508280cde9286add7f"
  },
  "language_info": {
   "codemirror_mode": {
    "name": "ipython",
    "version": 3
   },
   "file_extension": ".py",
   "mimetype": "text/x-python",
   "name": "python",
   "nbconvert_exporter": "python",
   "pygments_lexer": "ipython3",
   "version": "3.8.2"
  }
 },
 "nbformat": 4,
 "nbformat_minor": 4
}
